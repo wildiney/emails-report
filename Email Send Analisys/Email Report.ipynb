{
 "cells": [
  {
   "cell_type": "code",
   "execution_count": null,
   "metadata": {},
   "outputs": [],
   "source": [
    "import glob\n",
    "import pandas as pd\n",
    "import numpy as np\n",
    "from functools import reduce"
   ]
  },
  {
   "cell_type": "code",
   "execution_count": null,
   "metadata": {},
   "outputs": [],
   "source": [
    "color_azul_amazonico=\"#004254\"\n",
    "color_amarillo_solar=\"#FBBB21\""
   ]
  },
  {
   "cell_type": "code",
   "execution_count": null,
   "metadata": {},
   "outputs": [],
   "source": [
    "mailing = pd.read_excel('Base 202108.xlsx')\n",
    "mailing.columns"
   ]
  },
  {
   "cell_type": "code",
   "execution_count": null,
   "metadata": {},
   "outputs": [],
   "source": [
    "# main_df = pd.read_csv('mailing 261020.csv', sep=\";\", encoding=\"ANSI\")\n",
    "# main_df.info()\n",
    "main_df = pd.DataFrame()\n",
    "main_df['Area']=mailing['Negocio']\n",
    "main_df['codigo'] = mailing['Cod Empleado']\n",
    "main_df['Nome'] = mailing['Empleado']\n",
    "main_df['email']=mailing['Mail']"
   ]
  },
  {
   "cell_type": "code",
   "execution_count": null,
   "metadata": {},
   "outputs": [],
   "source": [
    "files = []\n",
    "for file in glob.glob('data/*.csv'):\n",
    "    files.append(file)"
   ]
  },
  {
   "cell_type": "code",
   "execution_count": null,
   "metadata": {},
   "outputs": [],
   "source": [
    "def clean_file(file):\n",
    "    df = pd.read_csv(file)\n",
    "    df[file.replace('data\\\\','')] = 1\n",
    "    df[file.replace('data\\\\','')]=df[file.replace('data\\\\','')].fillna(0).astype(np.int32)\n",
    "    return df[['email', file.replace('data\\\\','')]].drop_duplicates(subset=\"email\")\n",
    "\n",
    "def set_column_types(df):\n",
    "    for col in df.columns:\n",
    "        if col not in ['Area','codigo','Nome','email']:\n",
    "            df[col]=df[col].fillna(0).astype(np.int32)"
   ]
  },
  {
   "cell_type": "code",
   "execution_count": null,
   "metadata": {},
   "outputs": [],
   "source": [
    "for file in files:\n",
    "    newdf = clean_file(file)\n",
    "    newdf[file.replace('data\\\\','')]=newdf[file.replace('data\\\\','')].fillna(0).astype(np.int32)\n",
    "    main_df = pd.merge(main_df,newdf, on=\"email\", how=\"outer\")"
   ]
  },
  {
   "cell_type": "code",
   "execution_count": null,
   "metadata": {},
   "outputs": [],
   "source": [
    "main_df.columns"
   ]
  },
  {
   "cell_type": "code",
   "execution_count": null,
   "metadata": {},
   "outputs": [],
   "source": [
    "# main_df['Negocio']=main_df['Negocio'].fillna('Outras').astype('category')\n",
    "main_df['Area']=main_df['Area'].fillna('Outras').astype('category')\n",
    "main_df['codigo']=main_df['codigo'].fillna(0).astype(np.int32)\n",
    "main_df['Nome']=main_df['Nome'].fillna(0).astype('string')\n",
    "main_df['email']=main_df['email'].fillna(0).astype('string')\n",
    "set_column_types(main_df)"
   ]
  },
  {
   "cell_type": "code",
   "execution_count": null,
   "metadata": {},
   "outputs": [],
   "source": [
    "main_df.info()"
   ]
  },
  {
   "cell_type": "code",
   "execution_count": null,
   "metadata": {},
   "outputs": [],
   "source": [
    "column_list=list(main_df)\n",
    "del column_list[0:4]"
   ]
  },
  {
   "cell_type": "code",
   "execution_count": null,
   "metadata": {},
   "outputs": [],
   "source": [
    "main_df[\"Total\"]=main_df[column_list].sum(axis=1)"
   ]
  },
  {
   "cell_type": "code",
   "execution_count": null,
   "metadata": {},
   "outputs": [],
   "source": [
    "main_df.columns"
   ]
  },
  {
   "cell_type": "code",
   "execution_count": null,
   "metadata": {},
   "outputs": [],
   "source": [
    "df_total = main_df[[\"Area\",\"codigo\",\"Nome\",\"email\",\"Total\"]]\n",
    "# df_total.to_csv('Email.csv')\n",
    "# df_total.to_excel('Email.xlsx')"
   ]
  },
  {
   "cell_type": "code",
   "execution_count": null,
   "metadata": {},
   "outputs": [],
   "source": [
    "sum = main_df.sum()"
   ]
  },
  {
   "cell_type": "code",
   "execution_count": null,
   "metadata": {},
   "outputs": [],
   "source": [
    "sum = sum[1:-1]"
   ]
  },
  {
   "cell_type": "code",
   "execution_count": null,
   "metadata": {},
   "outputs": [],
   "source": [
    "sum.plot(kind='bar',figsize=(20,10), rot=90, fontsize=14, color=color_azul_amazonico)"
   ]
  },
  {
   "cell_type": "code",
   "execution_count": null,
   "metadata": {},
   "outputs": [],
   "source": [
    "df_nao_lidos = main_df[(main_df['Total']==0)].groupby(['Area']).count()['Total']"
   ]
  },
  {
   "cell_type": "code",
   "execution_count": null,
   "metadata": {},
   "outputs": [],
   "source": [
    "df_lidos = main_df[(main_df['Total']>0)].groupby(['Area']).count()['Total']"
   ]
  },
  {
   "cell_type": "code",
   "execution_count": null,
   "metadata": {},
   "outputs": [],
   "source": [
    "df_total = pd.merge(df_lidos, df_nao_lidos, how=\"outer\", on=\"Area\")\n",
    "df_total.rename(columns={'Total_x': 'Leitores', 'Total_y': 'Nao_leitores'}, inplace=True)\n",
    "df_total[\"Porcentagem_leitores\"] = df_total[\"Leitores\"] * 100 / (df_total[\"Leitores\"]+df_total[\"Nao_leitores\"])\n",
    "df_total.round(2)"
   ]
  },
  {
   "cell_type": "code",
   "execution_count": null,
   "metadata": {},
   "outputs": [],
   "source": [
    "df_total"
   ]
  },
  {
   "cell_type": "code",
   "execution_count": null,
   "metadata": {},
   "outputs": [],
   "source": [
    "df_total.plot(kind='bar', figsize=(20, 10), y=[\"Leitores\", \"Nao_leitores\"], stacked=True, rot=90, fontsize=14, color={\"Leitores\": color_azul_amazonico, \"Nao_leitores\": color_amarillo_solar})\n"
   ]
  },
  {
   "cell_type": "code",
   "execution_count": null,
   "metadata": {},
   "outputs": [],
   "source": [
    "df_parcial = df_total[df_total[\"Porcentagem_leitores\"]<75]\n",
    "df_parcial"
   ]
  },
  {
   "cell_type": "code",
   "execution_count": null,
   "metadata": {},
   "outputs": [],
   "source": [
    "#df_total.to_excel(\"result.xlsx\", encoding=\"utf-8\")\n"
   ]
  },
  {
   "cell_type": "code",
   "execution_count": null,
   "metadata": {},
   "outputs": [],
   "source": [
    "df_parcial.plot(kind='bar',figsize=(20,10),y=[\"Leitores\",\"Nao_leitores\"], stacked=True, rot=90, fontsize=14, color={\"Leitores\":color_azul_amazonico,\"Nao_leitores\":color_amarillo_solar})"
   ]
  },
  {
   "cell_type": "code",
   "execution_count": null,
   "metadata": {},
   "outputs": [],
   "source": [
    "df_total.columns"
   ]
  },
  {
   "cell_type": "code",
   "execution_count": null,
   "metadata": {},
   "outputs": [],
   "source": [
    "eduardo_df = main_df[main_df[\"email\"]==\"nome@dominio.com\"]"
   ]
  }
 ],
 "metadata": {
  "interpreter": {
   "hash": "9761429c62de02fc8a2e27cfa5a85056a7bf514d6c602dc934f0f5e82a524f8f"
  },
  "kernelspec": {
   "display_name": "Python 3.9.2 64-bit",
   "name": "python3"
  },
  "language_info": {
   "codemirror_mode": {
    "name": "ipython",
    "version": 3
   },
   "file_extension": ".py",
   "mimetype": "text/x-python",
   "name": "python",
   "nbconvert_exporter": "python",
   "pygments_lexer": "ipython3",
   "version": "3.9.7"
  }
 },
 "nbformat": 4,
 "nbformat_minor": 4
}
